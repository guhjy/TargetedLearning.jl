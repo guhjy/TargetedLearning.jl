{
 "cells": [
  {
   "cell_type": "markdown",
   "metadata": {},
   "source": [
    "Throughout the user's guide, we'll use the [Lalonde dataset](http://users.nber.org/~rdehejia/nswdata2.html). It is originally from\n",
    "Robert Lalonde, \"Evaluating the Econometric Evaluations of Training Programs,\" *American Economic Review*, Vol. 76, pp. 604-620. 1986.\n",
    "\n",
    "#Getting the data set\n",
    "\n",
    "To download the example data set, run"
   ]
  },
  {
   "cell_type": "code",
   "execution_count": 3,
   "metadata": {
    "collapsed": false
   },
   "outputs": [
    {
     "name": "stderr",
     "output_type": "stream",
     "text": [
      "INFO: /home/sam/.julia/v0.3/TargetedLearning/examples/data/lalonde.csv exists. To redownload, call fetchdata(true)\n"
     ]
    }
   ],
   "source": [
    "include(joinpath(Pkg.dir(\"TargetedLearning\"), \"examples\", \"fetchdata.jl\"))"
   ]
  },
  {
   "cell_type": "markdown",
   "metadata": {},
   "source": [
    "This only needs to be run once.\n",
    "\n",
    "# Loading the data set\n",
    "\n",
    "## Using readcsv\n",
    "\n",
    "The simplest way to read the data set is with `readcsv`. The CSV file we have has a header, so we'll pass `header=true`, and we'll get back a tuple containing a matrix with the numeric data in it (`readcsv` can figure out that it's all `Float64`s automatically) and a matrix with one row containing column names."
   ]
  },
  {
   "cell_type": "code",
   "execution_count": 6,
   "metadata": {
    "collapsed": false
   },
   "outputs": [
    {
     "data": {
      "text/plain": [
       "1x9 Array{String,2}:\n",
       " \"treatment\"  \"age\"  \"education\"  \"black\"  …  \"nodegree\"  \"RE75\"  \"RE78\""
      ]
     },
     "execution_count": 6,
     "metadata": {},
     "output_type": "execute_result"
    }
   ],
   "source": [
    "dsfname = joinpath(Pkg.dir(\"TargetedLearning\"), \"examples\", \"data\", \"lalonde.csv\")\n",
    "\n",
    "dat, colnames = readcsv(dsfname, header=true)\n",
    "\n",
    "#lets inspect colnames\n",
    "colnames"
   ]
  },
  {
   "cell_type": "code",
   "execution_count": 7,
   "metadata": {
    "collapsed": false
   },
   "outputs": [
    {
     "data": {
      "text/plain": [
       "9-element Array{String,1}:\n",
       " \"treatment\"\n",
       " \"age\"      \n",
       " \"education\"\n",
       " \"black\"    \n",
       " \"hispanic\" \n",
       " \"married\"  \n",
       " \"nodegree\" \n",
       " \"RE75\"     \n",
       " \"RE78\"     "
      ]
     },
     "execution_count": 7,
     "metadata": {},
     "output_type": "execute_result"
    }
   ],
   "source": [
    "#convert colnames to a vector instead of a matrix with one row\n",
    "colnames = reshape(colnames, size(colnames, 2))"
   ]
  },
  {
   "cell_type": "markdown",
   "metadata": {},
   "source": [
    "`treatment` is obviously the treatment variable. The outcome variable is `RE78` (earnings in 1978), and `RE75` is the pretreatment value at baseline. The others are potential baseline confounders. Check the link above for more information about the dataset.  We want to slice the matrix `dat` up to extract the treatment and outcome variable. Julia uses square brackets for indexing. The first dimension of a matrix is rows and the second is columns like R. If you want everything in one dimension, you put `:` (where as in R you can leave that dimension empty). You can index with booleans, integers, vectors of integers, ranges and some other things. Here are some examples:"
   ]
  },
  {
   "cell_type": "code",
   "execution_count": 9,
   "metadata": {
    "collapsed": false
   },
   "outputs": [
    {
     "data": {
      "text/plain": [
       "722-element Array{Float64,1}:\n",
       " 1.0\n",
       " 1.0\n",
       " 1.0\n",
       " 1.0\n",
       " 1.0\n",
       " 1.0\n",
       " 1.0\n",
       " 1.0\n",
       " 1.0\n",
       " 1.0\n",
       " 1.0\n",
       " 1.0\n",
       " 1.0\n",
       " ⋮  \n",
       " 0.0\n",
       " 0.0\n",
       " 0.0\n",
       " 0.0\n",
       " 0.0\n",
       " 0.0\n",
       " 0.0\n",
       " 0.0\n",
       " 0.0\n",
       " 0.0\n",
       " 0.0\n",
       " 0.0"
      ]
     },
     "execution_count": 9,
     "metadata": {},
     "output_type": "execute_result"
    }
   ],
   "source": [
    "#we know column 1 is treatment, so get it directly, and ask for all rows with :\n",
    "treatment = dat[:, 1]"
   ]
  },
  {
   "cell_type": "code",
   "execution_count": 13,
   "metadata": {
    "collapsed": false
   },
   "outputs": [],
   "source": [
    "#suppose instead we want to find the position in colnames that has the value\n",
    "#\"treatment\", but we don't know it's the first one. There are a couple of ways\n",
    "#to do that.\n",
    "#(.== and operators starting with `.` in general indicate that we want to do\n",
    "#   an element wise operation)\n",
    "\n",
    "#(the ; at the end of the line suppresses output)\n",
    "treatment_take2 = dat[:, colnames .== \"treatment\", 1];"
   ]
  },
  {
   "cell_type": "code",
   "execution_count": 18,
   "metadata": {
    "collapsed": false
   },
   "outputs": [
    {
     "data": {
      "text/plain": [
       "722-element Array{Float64,1}:\n",
       "    0.0 \n",
       "    0.0 \n",
       "    0.0 \n",
       "    0.0 \n",
       "    0.0 \n",
       "    0.0 \n",
       "    0.0 \n",
       "    0.0 \n",
       "    0.0 \n",
       "    0.0 \n",
       "    0.0 \n",
       "    0.0 \n",
       "    0.0 \n",
       "    ⋮   \n",
       "    0.0 \n",
       "    0.0 \n",
       " 1537.93\n",
       "    0.0 \n",
       " 8012.09\n",
       "  768.81\n",
       " 1345.91\n",
       "  825.23\n",
       "    0.0 \n",
       " 1206.44\n",
       "    0.0 \n",
       "    0.0 "
      ]
     },
     "execution_count": 18,
     "metadata": {},
     "output_type": "execute_result"
    }
   ],
   "source": [
    "#the last column is the outcome so we can use the keyword `end`\n",
    "outcome = dat[:, end]\n",
    "\n",
    "#we can also use `end` in arithmetic, e.g.\n",
    "outcome_prebaseline = dat[:, end-1]"
   ]
  },
  {
   "cell_type": "code",
   "execution_count": 19,
   "metadata": {
    "collapsed": false
   },
   "outputs": [
    {
     "data": {
      "text/plain": [
       "722x7 Array{Float64,2}:\n",
       " 37.0  11.0  1.0  0.0  1.0  1.0     0.0 \n",
       " 22.0   9.0  0.0  1.0  0.0  1.0     0.0 \n",
       " 30.0  12.0  1.0  0.0  0.0  0.0     0.0 \n",
       " 27.0  11.0  1.0  0.0  0.0  1.0     0.0 \n",
       " 33.0   8.0  1.0  0.0  0.0  1.0     0.0 \n",
       " 22.0   9.0  1.0  0.0  0.0  1.0     0.0 \n",
       " 23.0  12.0  1.0  0.0  0.0  0.0     0.0 \n",
       " 32.0  11.0  1.0  0.0  0.0  1.0     0.0 \n",
       " 22.0  16.0  1.0  0.0  0.0  0.0     0.0 \n",
       " 33.0  12.0  0.0  0.0  1.0  0.0     0.0 \n",
       " 19.0   9.0  1.0  0.0  0.0  1.0     0.0 \n",
       " 21.0  13.0  1.0  0.0  0.0  0.0     0.0 \n",
       " 18.0   8.0  1.0  0.0  0.0  1.0     0.0 \n",
       "  ⋮                         ⋮           \n",
       " 17.0  10.0  0.0  1.0  0.0  1.0     0.0 \n",
       " 19.0  11.0  1.0  0.0  0.0  1.0     0.0 \n",
       " 19.0   9.0  1.0  0.0  0.0  1.0  1537.93\n",
       " 17.0  10.0  1.0  0.0  0.0  1.0     0.0 \n",
       " 20.0  11.0  1.0  0.0  0.0  1.0  8012.09\n",
       " 17.0   8.0  1.0  0.0  0.0  1.0   768.81\n",
       " 18.0   8.0  0.0  0.0  0.0  1.0  1345.91\n",
       " 20.0  10.0  1.0  0.0  0.0  1.0   825.23\n",
       " 17.0   9.0  0.0  1.0  0.0  1.0     0.0 \n",
       " 17.0   9.0  1.0  0.0  0.0  1.0  1206.44\n",
       " 19.0  11.0  1.0  0.0  0.0  1.0     0.0 \n",
       " 18.0  10.0  1.0  0.0  0.0  1.0     0.0 "
      ]
     },
     "execution_count": 19,
     "metadata": {},
     "output_type": "execute_result"
    }
   ],
   "source": [
    "#baseline covariates are everything between the first and last column, so we could use a range:\n",
    "baseline_covars = dat[:, 2:end-1]"
   ]
  },
  {
   "cell_type": "markdown",
   "metadata": {},
   "source": [
    "## Using DataFrame\n",
    "\n",
    "The `readtable` function returns a `DataFrame` which allows for indexing by column names."
   ]
  },
  {
   "cell_type": "code",
   "execution_count": 21,
   "metadata": {
    "collapsed": false
   },
   "outputs": [
    {
     "data": {
      "text/plain": [
       "9-element Array{Symbol,1}:\n",
       " :treatment\n",
       " :age      \n",
       " :education\n",
       " :black    \n",
       " :hispanic \n",
       " :married  \n",
       " :nodegree \n",
       " :RE75     \n",
       " :RE78     "
      ]
     },
     "execution_count": 21,
     "metadata": {},
     "output_type": "execute_result"
    }
   ],
   "source": [
    "using DataFrames #`using` is like `library` in R\n",
    "\n",
    "dsfname = joinpath(Pkg.dir(\"TargetedLearning\"), \"examples\", \"data\", \"lalonde.csv\")\n",
    "\"/home/sam/.julia/v0.3/TargetedLearning/examples/data/lalonde.csv\"\n",
    "\n",
    "df = readtable(dsfname)\n",
    "\n",
    "#check the column names:\n",
    "names(df)"
   ]
  },
  {
   "cell_type": "markdown",
   "metadata": {},
   "source": [
    "Data frames in Julia are indexed by symbols instead of strings. Symbols are no entirely unlike strings, and are created in julia with `:symbolname` or `Symbol(\"symbolname\")`.\n",
    "\n",
    "Now let's get the treatment and outcome variables out of `df`."
   ]
  },
  {
   "cell_type": "code",
   "execution_count": 24,
   "metadata": {
    "collapsed": false
   },
   "outputs": [
    {
     "data": {
      "text/plain": [
       "722-element DataArray{Float64,1}:\n",
       "  9930.05 \n",
       "  3595.89 \n",
       " 24909.5  \n",
       "  7506.15 \n",
       "   289.79 \n",
       "  4056.49 \n",
       "     0.0  \n",
       "  8472.16 \n",
       "  2164.02 \n",
       " 12418.1  \n",
       "  8173.91 \n",
       " 17094.6  \n",
       "     0.0  \n",
       "     ⋮    \n",
       "  8469.27 \n",
       "     0.0  \n",
       "  4188.74 \n",
       "  1143.39 \n",
       " 18155.8  \n",
       "  3020.95 \n",
       "  1725.59 \n",
       "     0.0  \n",
       "  5114.81 \n",
       "     0.0  \n",
       "     0.0  \n",
       "   781.224"
      ]
     },
     "execution_count": 24,
     "metadata": {},
     "output_type": "execute_result"
    }
   ],
   "source": [
    "treatment = df[:treatment]\n",
    "outcome = df[:RE78]"
   ]
  },
  {
   "cell_type": "markdown",
   "metadata": {},
   "source": [
    "We see that variables in a data frame are actually `DataArray`s instead of regular Julia `Array`s. The functions in TargetedLearning.jl currently only work with `Arrays` of floating point numbers, so we'll convert them.\n"
   ]
  },
  {
   "cell_type": "code",
   "execution_count": 25,
   "metadata": {
    "collapsed": false
   },
   "outputs": [
    {
     "data": {
      "text/plain": [
       "Array{Float64,1}"
      ]
     },
     "execution_count": 25,
     "metadata": {},
     "output_type": "execute_result"
    }
   ],
   "source": [
    "treatment = convert(Array{Float64}, treatment)\n",
    "outcome = convert(Array{Float64}, outcome)\n",
    "typeof(outcome)"
   ]
  },
  {
   "cell_type": "markdown",
   "metadata": {},
   "source": [
    "We can also index into the data frame using ranges, just like regular matrixes (but we only index on columns). Let's get the baseline covariates. When you get more than one column out of a data frame, you get back another data frame. For some reason that I do not know, `convert` won't work for us here, but `array` will get us what we need (a Julia array instead of a DataFrame)."
   ]
  },
  {
   "cell_type": "code",
   "execution_count": 26,
   "metadata": {
    "collapsed": false
   },
   "outputs": [
    {
     "data": {
      "text/plain": [
       "722x7 Array{Real,2}:\n",
       " 37  11  1  0  1  1     0.0 \n",
       " 22   9  0  1  0  1     0.0 \n",
       " 30  12  1  0  0  0     0.0 \n",
       " 27  11  1  0  0  1     0.0 \n",
       " 33   8  1  0  0  1     0.0 \n",
       " 22   9  1  0  0  1     0.0 \n",
       " 23  12  1  0  0  0     0.0 \n",
       " 32  11  1  0  0  1     0.0 \n",
       " 22  16  1  0  0  0     0.0 \n",
       " 33  12  0  0  1  0     0.0 \n",
       " 19   9  1  0  0  1     0.0 \n",
       " 21  13  1  0  0  0     0.0 \n",
       " 18   8  1  0  0  1     0.0 \n",
       "  ⋮               ⋮         \n",
       " 17  10  0  1  0  1     0.0 \n",
       " 19  11  1  0  0  1     0.0 \n",
       " 19   9  1  0  0  1  1537.93\n",
       " 17  10  1  0  0  1     0.0 \n",
       " 20  11  1  0  0  1  8012.09\n",
       " 17   8  1  0  0  1   768.81\n",
       " 18   8  0  0  0  1  1345.91\n",
       " 20  10  1  0  0  1   825.23\n",
       " 17   9  0  1  0  1     0.0 \n",
       " 17   9  1  0  0  1  1206.44\n",
       " 19  11  1  0  0  1     0.0 \n",
       " 18  10  1  0  0  1     0.0 "
      ]
     },
     "execution_count": 26,
     "metadata": {},
     "output_type": "execute_result"
    }
   ],
   "source": [
    "baseline_covars = array(df[2:end-1])"
   ]
  },
  {
   "cell_type": "markdown",
   "metadata": {},
   "source": [
    "### Formulas\n",
    "\n",
    "One nice thing about DataFrames.jl is that is has support for formulas. They are similar to R's formulas, but there are some differences. Some packages, like GLM.jl take data frames with formulas as input. Those packages can be used for computing initial estimates, but TargetedLearning.jl does not support formulas and DataFrames directly.  However, you can use DataFrames.jl's functionality to take a DataFrame and a formula and get a numeric design matrix based on a formula.\n",
    "\n",
    "For example, suppose we'd like to include an age squared term and an interaction term between education and marital status. It looks like polynomial terms aren't implemented currently, so you'll have to manually make those terms."
   ]
  },
  {
   "cell_type": "code",
   "execution_count": 27,
   "metadata": {
    "collapsed": false
   },
   "outputs": [
    {
     "data": {
      "text/plain": [
       "Formula: treatment ~ -1 + age + age2 + education + black + hispanic + married + nodegree + RE75 + married & nodegree"
      ]
     },
     "execution_count": 27,
     "metadata": {},
     "output_type": "execute_result"
    }
   ],
   "source": [
    "#create age squared\n",
    "df[:age2] = df[:age] .* df[:age];\n",
    "\n",
    "#suppress the intercept with -1\n",
    "fm = treatment ~ -1 + age + age2 + education + black + hispanic + married + nodegree + RE75 + married&nodegree"
   ]
  },
  {
   "cell_type": "code",
   "execution_count": 29,
   "metadata": {
    "collapsed": false
   },
   "outputs": [
    {
     "data": {
      "text/plain": [
       "722x9 Array{Float64,2}:\n",
       " 37.0  1369.0  11.0  1.0  0.0  1.0  1.0     0.0   1.0\n",
       " 22.0   484.0   9.0  0.0  1.0  0.0  1.0     0.0   0.0\n",
       " 30.0   900.0  12.0  1.0  0.0  0.0  0.0     0.0   0.0\n",
       " 27.0   729.0  11.0  1.0  0.0  0.0  1.0     0.0   0.0\n",
       " 33.0  1089.0   8.0  1.0  0.0  0.0  1.0     0.0   0.0\n",
       " 22.0   484.0   9.0  1.0  0.0  0.0  1.0     0.0   0.0\n",
       " 23.0   529.0  12.0  1.0  0.0  0.0  0.0     0.0   0.0\n",
       " 32.0  1024.0  11.0  1.0  0.0  0.0  1.0     0.0   0.0\n",
       " 22.0   484.0  16.0  1.0  0.0  0.0  0.0     0.0   0.0\n",
       " 33.0  1089.0  12.0  0.0  0.0  1.0  0.0     0.0   0.0\n",
       " 19.0   361.0   9.0  1.0  0.0  0.0  1.0     0.0   0.0\n",
       " 21.0   441.0  13.0  1.0  0.0  0.0  0.0     0.0   0.0\n",
       " 18.0   324.0   8.0  1.0  0.0  0.0  1.0     0.0   0.0\n",
       "  ⋮                            ⋮                     \n",
       " 17.0   289.0  10.0  0.0  1.0  0.0  1.0     0.0   0.0\n",
       " 19.0   361.0  11.0  1.0  0.0  0.0  1.0     0.0   0.0\n",
       " 19.0   361.0   9.0  1.0  0.0  0.0  1.0  1537.93  0.0\n",
       " 17.0   289.0  10.0  1.0  0.0  0.0  1.0     0.0   0.0\n",
       " 20.0   400.0  11.0  1.0  0.0  0.0  1.0  8012.09  0.0\n",
       " 17.0   289.0   8.0  1.0  0.0  0.0  1.0   768.81  0.0\n",
       " 18.0   324.0   8.0  0.0  0.0  0.0  1.0  1345.91  0.0\n",
       " 20.0   400.0  10.0  1.0  0.0  0.0  1.0   825.23  0.0\n",
       " 17.0   289.0   9.0  0.0  1.0  0.0  1.0     0.0   0.0\n",
       " 17.0   289.0   9.0  1.0  0.0  0.0  1.0  1206.44  0.0\n",
       " 19.0   361.0  11.0  1.0  0.0  0.0  1.0     0.0   0.0\n",
       " 18.0   324.0  10.0  1.0  0.0  0.0  1.0     0.0   0.0"
      ]
     },
     "execution_count": 29,
     "metadata": {},
     "output_type": "execute_result"
    }
   ],
   "source": [
    "#take the field named `m` from the created ModelMatrix object\n",
    "expanded_baseline_covars = ModelMatrix(ModelFrame(fm, df)).m"
   ]
  },
  {
   "cell_type": "markdown",
   "metadata": {},
   "source": [
    "It's clunky, but will get the job done. More detailed documentation is [here](http://dataframesjl.readthedocs.org/en/latest/formulas.html).\n",
    "\n",
    "### Missing data and categorical data\n",
    "\n",
    "[DataFrames.jl](http://dataframesjl.readthedocs.org/en/latest/) and [DataArrays.jl](https://github.com/JuliaStats/DataArrays.jl) have ways of handling both missing data and categorical data. TargetedLearning.jl does not, so you'll have to deal with those issues ahead of time. The documentation for those packages has more information on both."
   ]
  },
  {
   "cell_type": "code",
   "execution_count": null,
   "metadata": {
    "collapsed": true
   },
   "outputs": [],
   "source": []
  }
 ],
 "metadata": {
  "kernelspec": {
   "display_name": "Julia 0.3.7-pre",
   "language": "julia",
   "name": "julia 0.3"
  },
  "language_info": {
   "name": "julia",
   "version": "0.3.8"
  }
 },
 "nbformat": 4,
 "nbformat_minor": 0
}
